{
 "cells": [
  {
   "cell_type": "code",
   "execution_count": 13,
   "metadata": {},
   "outputs": [],
   "source": [
    "import torch\n",
    "import numpy as np\n",
    "\n",
    "# complex valued tensor class\n",
    "from cplxmodule import cplx\n",
    "\n",
    "# converters\n",
    "from cplxmodule.nn import RealToCplx, CplxToReal, CplxToCplx\n",
    "\n",
    "# layers of encapsulating other complex valued layers\n",
    "from cplxmodule.nn import CplxSequential\n",
    "\n",
    "# common layers\n",
    "from cplxmodule.nn import CplxConv1d, CplxLinear\n",
    "\n",
    "# activation layers\n",
    "from cplxmodule.nn import CplxModReLU\n",
    "\n",
    "from AlexNet_Complex import AlexNet_Complex"
   ]
  },
  {
   "cell_type": "code",
   "execution_count": 3,
   "metadata": {},
   "outputs": [
    {
     "name": "stdout",
     "output_type": "stream",
     "text": [
      "Cplx(\n",
      "  real=tensor([[ 0.6067, -1.2986,  1.1366,  0.9511,  1.3872,  0.7579,  0.1695, -0.4848,\n",
      "          0.4126, -0.4437, -1.4575, -0.4797, -0.6389, -0.6942,  0.6718, -0.0090],\n",
      "        [-0.3511, -1.2464, -1.1513,  0.6919, -0.1823, -1.7045,  0.7023,  0.4357,\n",
      "          0.2007,  0.0655, -1.8841,  1.2354,  1.2319, -1.6471, -0.1590,  0.0102],\n",
      "        [ 0.6116, -1.0051, -2.1569, -0.2353, -2.8190, -0.4525, -0.4422,  1.1152,\n",
      "         -1.4332,  0.9385, -2.3541,  1.2192, -0.9261,  0.9732, -1.4989,  0.8713]]),\n",
      "  imag=tensor([[-0.1520,  0.7388,  0.6029,  2.0101, -1.0517,  0.1079,  0.0452,  0.9122,\n",
      "          0.9120,  0.0364,  0.4965,  0.5173,  0.5066,  1.0062,  0.9033, -0.5244],\n",
      "        [ 0.4677, -0.9746,  0.1603,  0.7642,  0.2519, -1.2987,  1.1950,  0.1669,\n",
      "          0.4178,  0.1939,  0.3925, -0.4821, -1.4808, -0.4477, -0.7293, -1.8995],\n",
      "        [ 0.4768, -0.3098,  0.4167, -1.1880, -0.1842,  0.7276,  0.8839, -0.8158,\n",
      "          1.1323, -0.3404, -0.1977, -0.7829, -0.5455, -0.5593,  1.1688,  0.2307]])\n",
      ")\n"
     ]
    }
   ],
   "source": [
    "n_features, n_channels = 16, 4\n",
    "z = torch.randn(3, n_features*2)\n",
    "\n",
    "cplx = RealToCplx()(z)\n",
    "print(cplx)"
   ]
  },
  {
   "cell_type": "code",
   "execution_count": 5,
   "metadata": {},
   "outputs": [
    {
     "data": {
      "text/plain": [
       "torch.Size([3, 32])"
      ]
     },
     "execution_count": 5,
     "metadata": {},
     "output_type": "execute_result"
    }
   ],
   "source": [
    "z.shape\n",
    "# batch 3, channel 4"
   ]
  },
  {
   "cell_type": "code",
   "execution_count": 6,
   "metadata": {},
   "outputs": [
    {
     "data": {
      "text/plain": [
       "tensor([[ 0.6067, -0.1520, -1.2986,  0.7388,  1.1366,  0.6029,  0.9511,  2.0101,\n",
       "          1.3872, -1.0517,  0.7579,  0.1079,  0.1695,  0.0452, -0.4848,  0.9122,\n",
       "          0.4126,  0.9120, -0.4437,  0.0364, -1.4575,  0.4965, -0.4797,  0.5173,\n",
       "         -0.6389,  0.5066, -0.6942,  1.0062,  0.6718,  0.9033, -0.0090, -0.5244],\n",
       "        [-0.3511,  0.4677, -1.2464, -0.9746, -1.1513,  0.1603,  0.6919,  0.7642,\n",
       "         -0.1823,  0.2519, -1.7045, -1.2987,  0.7023,  1.1950,  0.4357,  0.1669,\n",
       "          0.2007,  0.4178,  0.0655,  0.1939, -1.8841,  0.3925,  1.2354, -0.4821,\n",
       "          1.2319, -1.4808, -1.6471, -0.4477, -0.1590, -0.7293,  0.0102, -1.8995],\n",
       "        [ 0.6116,  0.4768, -1.0051, -0.3098, -2.1569,  0.4167, -0.2353, -1.1880,\n",
       "         -2.8190, -0.1842, -0.4525,  0.7276, -0.4422,  0.8839,  1.1152, -0.8158,\n",
       "         -1.4332,  1.1323,  0.9385, -0.3404, -2.3541, -0.1977,  1.2192, -0.7829,\n",
       "         -0.9261, -0.5455,  0.9732, -0.5593, -1.4989,  1.1688,  0.8713,  0.2307]])"
      ]
     },
     "execution_count": 6,
     "metadata": {},
     "output_type": "execute_result"
    }
   ],
   "source": []
  },
  {
   "cell_type": "code",
   "execution_count": 10,
   "metadata": {},
   "outputs": [],
   "source": [
    "n_features, n_channels = 16, 4\n",
    "z2 = torch.randn(256, n_channels, n_features * 2)\n",
    "\n",
    "complex_model = CplxSequential(\n",
    "\n",
    "    CplxLinear(n_features, n_features, bias=True),\n",
    "\n",
    "    # complex: batch x n_channels x n_features\n",
    "    CplxConv1d(n_channels, 3 * n_channels, kernel_size=4, stride=1, bias=False),\n",
    "\n",
    "    # complex: batch x (3 * n_channels) x (n_features - (4-1))\n",
    "    CplxModReLU(threshold=0.15),\n",
    "\n",
    "    # complex: batch x (3 * n_channels) x (n_features - (4-1))\n",
    "    CplxToCplx[torch.nn.Flatten](start_dim=-2),\n",
    "\n",
    "    CplxToCplx[torch.tanh](),\n",
    "    \n",
    ")\n",
    "\n",
    "real_input_model = torch.nn.Sequential(\n",
    "    \n",
    "    # real: batch x (n_features * 2)\n",
    "    RealToCplx(),\n",
    "\n",
    "    # complex: batch x n_features\n",
    "    complex_model,\n",
    "\n",
    "    # complex: batch x (3 * n_channels * (n_features - (4-1)))\n",
    "    CplxToReal(),\n",
    "\n",
    "    # real: batch x ((3 * n_channels * (n_features - (4-1))) * 2)\n",
    ")"
   ]
  },
  {
   "cell_type": "code",
   "execution_count": 11,
   "metadata": {},
   "outputs": [
    {
     "name": "stdout",
     "output_type": "stream",
     "text": [
      "torch.Size([256, 312])\n"
     ]
    }
   ],
   "source": [
    "print(real_input_model(z2).shape)\n"
   ]
  },
  {
   "cell_type": "code",
   "execution_count": 39,
   "metadata": {},
   "outputs": [],
   "source": [
    "# Mine: [batch, signal, real/compl]\n",
    "# this case: [2, 6, 2]\n",
    "\n",
    "# Dummy would be z2 bc stacking real/imag\n",
    "z2 = torch.randn(2, 12)"
   ]
  },
  {
   "cell_type": "code",
   "execution_count": 41,
   "metadata": {},
   "outputs": [
    {
     "name": "stdout",
     "output_type": "stream",
     "text": [
      "tensor([[ 0.0681, -0.5854, -1.4799,  1.6354,  1.6686, -0.3169,  0.2735,  1.4125,\n",
      "          1.9294,  0.0650, -0.0268, -0.5446],\n",
      "        [ 1.3389,  0.6516, -0.6153, -0.3866,  0.0661, -0.6029,  0.1224,  1.2243,\n",
      "         -0.4818,  0.4872,  2.5807, -1.8771]])\n",
      "Cplx(\n",
      "  real=tensor([[ 0.0681, -1.4799,  1.6686,  0.2735,  1.9294, -0.0268],\n",
      "        [ 1.3389, -0.6153,  0.0661,  0.1224, -0.4818,  2.5807]]),\n",
      "  imag=tensor([[-0.5854,  1.6354, -0.3169,  1.4125,  0.0650, -0.5446],\n",
      "        [ 0.6516, -0.3866, -0.6029,  1.2243,  0.4872, -1.8771]])\n",
      ")\n"
     ]
    }
   ],
   "source": [
    "print(z2)\n",
    "cplx = RealToCplx()(z2)\n",
    "print(cplx)"
   ]
  },
  {
   "cell_type": "code",
   "execution_count": 16,
   "metadata": {},
   "outputs": [
    {
     "data": {
      "text/plain": [
       "array([1, 2, 3, 4, 5, 6])"
      ]
     },
     "execution_count": 16,
     "metadata": {},
     "output_type": "execute_result"
    }
   ],
   "source": [
    "a = np.array([[1, 2, 3]])\n",
    "b = np.array([[[4, 5, 6]]])\n",
    "np.dstack((a,b)).flatten()"
   ]
  },
  {
   "cell_type": "code",
   "execution_count": 18,
   "metadata": {},
   "outputs": [
    {
     "data": {
      "text/plain": [
       "array([1, 4, 2, 5, 3, 6])"
      ]
     },
     "execution_count": 18,
     "metadata": {},
     "output_type": "execute_result"
    }
   ],
   "source": [
    "A = np.array([[[1, 2, 3]]])\n",
    "B = np.array([[[4, 5, 6]]])\n",
    "np.vstack((A,B)).ravel('F')"
   ]
  },
  {
   "cell_type": "code",
   "execution_count": 59,
   "metadata": {
    "scrolled": true
   },
   "outputs": [
    {
     "name": "stdout",
     "output_type": "stream",
     "text": [
      "[[0.44106694 0.32125723 0.71886483 0.83224281 0.7731201  0.57266095]\n",
      " [0.59767141 0.34940249 0.78568625 0.24294884 0.51635719 0.27304299]]\n",
      "[[0.54909248 0.76247947 0.06956216 0.77578655 0.37675704 0.18509387]\n",
      " [0.38820964 0.66273056 0.18451362 0.56637537 0.54899748 0.74475515]]\n"
     ]
    }
   ],
   "source": [
    "start = np.random.random((2,2,6))\n",
    "print(start[:,0,:])\n",
    "print(start[:,1,:])"
   ]
  },
  {
   "cell_type": "code",
   "execution_count": 60,
   "metadata": {},
   "outputs": [
    {
     "name": "stdout",
     "output_type": "stream",
     "text": [
      "[[[0.44106694 0.32125723 0.71886483 0.83224281 0.7731201  0.57266095]\n",
      "  [0.54909248 0.76247947 0.06956216 0.77578655 0.37675704 0.18509387]]\n",
      "\n",
      " [[0.59767141 0.34940249 0.78568625 0.24294884 0.51635719 0.27304299]\n",
      "  [0.38820964 0.66273056 0.18451362 0.56637537 0.54899748 0.74475515]]]\n"
     ]
    }
   ],
   "source": [
    "print(start)"
   ]
  },
  {
   "cell_type": "code",
   "execution_count": 61,
   "metadata": {},
   "outputs": [
    {
     "data": {
      "text/plain": [
       "array([[0.44106694, 0.32125723, 0.71886483, 0.83224281, 0.7731201 ,\n",
       "        0.57266095, 0.54909248, 0.76247947, 0.06956216, 0.77578655,\n",
       "        0.37675704, 0.18509387],\n",
       "       [0.59767141, 0.34940249, 0.78568625, 0.24294884, 0.51635719,\n",
       "        0.27304299, 0.38820964, 0.66273056, 0.18451362, 0.56637537,\n",
       "        0.54899748, 0.74475515]])"
      ]
     },
     "execution_count": 61,
     "metadata": {},
     "output_type": "execute_result"
    }
   ],
   "source": [
    "start.reshape(2,-1)"
   ]
  },
  {
   "cell_type": "code",
   "execution_count": 53,
   "metadata": {},
   "outputs": [
    {
     "data": {
      "text/plain": [
       "array([0.8609836 , 0.61582542, 0.26848256, 0.81180861, 0.48528936,\n",
       "       0.23499443, 0.5135409 , 0.6870821 , 0.61568539, 0.69028395,\n",
       "       0.83473922, 0.5500271 ])"
      ]
     },
     "execution_count": 53,
     "metadata": {},
     "output_type": "execute_result"
    }
   ],
   "source": [
    "np.vstack((start[0,:,0],start[0,:,1])).ravel('F')"
   ]
  },
  {
   "cell_type": "code",
   "execution_count": 32,
   "metadata": {},
   "outputs": [
    {
     "name": "stdout",
     "output_type": "stream",
     "text": [
      "(800,)\n",
      "[[ 1.         -0.6183733 ]\n",
      " [ 0.98617315 -0.19323896]\n",
      " [ 0.9444313   0.10218484]\n",
      " ...\n",
      " [ 0.03088558  0.79434407]\n",
      " [-0.99160004 -0.48234573]\n",
      " [ 0.28812164 -1.3582546 ]]\n",
      "(800, 2)\n",
      "1.0\n",
      "-0.6183733\n"
     ]
    }
   ],
   "source": [
    "#from cusignal import chirp, spectrogram\n",
    "import numpy as np\n",
    "# Bandwidt\n",
    "from numpy import random\n",
    "#from LFMSignal import *\n",
    "from scipy.signal import chirp, spectrogram, hilbert\n",
    "import matplotlib.pyplot as plt\n",
    "\n",
    "# Dataset consts\n",
    "seconds = pw = 50e-6\n",
    "b0, b1 = 4e6, 6e6-2e5\n",
    "fs = 2 * 8e6\n",
    "classes = 10\n",
    "bandwidths = np.linspace(b0, b1, num=classes)\n",
    "\n",
    "# Create labels and preallocate numpy array\n",
    "\"\"\"\n",
    "\n",
    "\"\"\"\n",
    "dataset = np.zeros((int(1e5), 800, 2), dtype=np.float32)\n",
    "labels = np.zeros((10000)) # 1e4 x 10 classes\n",
    "for i in range(1,10):\n",
    "    labels = np.concatenate((labels, np.ones((10000))*i))\n",
    "labels = labels.astype(np.int64)\n",
    "\n",
    "class_samples = 10000\n",
    "# Iter classes\n",
    "for label in range(classes):\n",
    "    #number of samples per class\n",
    "    for j in range(class_samples):\n",
    "\n",
    "        idx = j + class_samples*label \n",
    "        #if idx % 1000 == 0: print(\"Sample: {} - {}%\".format(idx, 100*idx/(class_samples*classes)), end=\" \")\n",
    "        seconds = pw = 50e-6\n",
    "        fs = 2 * 8e6\n",
    "        f0 = random.randint(0, 2e6)\n",
    "        f1 = f0 + bandwidths[label]\n",
    "        t = np.linspace(0, seconds, seconds * fs, endpoint=False)\n",
    "        data = chirp(t, f0=f0, f1=f1, t1=seconds, method='linear')\n",
    "        print(hilbert(data).shape)\n",
    "        dataset[idx] = hilbert(data).view('(2,)float').astype('float32')\n",
    "        print(dataset[idx])\n",
    "        print(dataset[idx].shape)\n",
    "        print(dataset[idx][0][0])\n",
    "        print(dataset[idx][0][1])\n",
    "        break\n",
    "    break"
   ]
  },
  {
   "cell_type": "code",
   "execution_count": 63,
   "metadata": {},
   "outputs": [
    {
     "ename": "NameError",
     "evalue": "name 'flatten_dim' is not defined",
     "output_type": "error",
     "traceback": [
      "\u001b[0;31m---------------------------------------------------------------------------\u001b[0m",
      "\u001b[0;31mNameError\u001b[0m                                 Traceback (most recent call last)",
      "\u001b[0;32m<ipython-input-63-32eb19e00c99>\u001b[0m in \u001b[0;36m<module>\u001b[0;34m\u001b[0m\n\u001b[1;32m     14\u001b[0m     \u001b[0mcplxnn\u001b[0m\u001b[0;34m.\u001b[0m\u001b[0mCplxToCplx\u001b[0m\u001b[0;34m[\u001b[0m\u001b[0mtorch\u001b[0m\u001b[0;34m.\u001b[0m\u001b[0mnn\u001b[0m\u001b[0;34m.\u001b[0m\u001b[0mFlatten\u001b[0m\u001b[0;34m]\u001b[0m\u001b[0;34m(\u001b[0m\u001b[0mstart_dim\u001b[0m\u001b[0;34m=\u001b[0m\u001b[0;34m-\u001b[0m\u001b[0;36m2\u001b[0m\u001b[0;34m)\u001b[0m\u001b[0;34m,\u001b[0m\u001b[0;34m\u001b[0m\u001b[0;34m\u001b[0m\u001b[0m\n\u001b[1;32m     15\u001b[0m     \u001b[0mcplxnn\u001b[0m\u001b[0;34m.\u001b[0m\u001b[0mCplxDropout\u001b[0m\u001b[0;34m(\u001b[0m\u001b[0mp\u001b[0m\u001b[0;34m=\u001b[0m\u001b[0;36m0.5\u001b[0m\u001b[0;34m)\u001b[0m\u001b[0;34m,\u001b[0m\u001b[0;34m\u001b[0m\u001b[0;34m\u001b[0m\u001b[0m\n\u001b[0;32m---> 16\u001b[0;31m     \u001b[0mcplxnn\u001b[0m\u001b[0;34m.\u001b[0m\u001b[0mCplxLinear\u001b[0m\u001b[0;34m(\u001b[0m\u001b[0mflatten_dim\u001b[0m\u001b[0;34m,\u001b[0m \u001b[0;36m4096\u001b[0m\u001b[0;34m)\u001b[0m\u001b[0;34m,\u001b[0m \u001b[0mcplxnn\u001b[0m\u001b[0;34m.\u001b[0m\u001b[0mCplxModReLU\u001b[0m\u001b[0;34m(\u001b[0m\u001b[0;34m)\u001b[0m\u001b[0;34m,\u001b[0m\u001b[0;34m\u001b[0m\u001b[0;34m\u001b[0m\u001b[0m\n\u001b[0m\u001b[1;32m     17\u001b[0m     \u001b[0mcplxnn\u001b[0m\u001b[0;34m.\u001b[0m\u001b[0mCplxDropout\u001b[0m\u001b[0;34m(\u001b[0m\u001b[0mp\u001b[0m\u001b[0;34m=\u001b[0m\u001b[0;36m0.5\u001b[0m\u001b[0;34m)\u001b[0m\u001b[0;34m,\u001b[0m\u001b[0;34m\u001b[0m\u001b[0;34m\u001b[0m\u001b[0m\n\u001b[1;32m     18\u001b[0m     \u001b[0mcplxnn\u001b[0m\u001b[0;34m.\u001b[0m\u001b[0mCplxLinear\u001b[0m\u001b[0;34m(\u001b[0m\u001b[0;36m4096\u001b[0m\u001b[0;34m,\u001b[0m \u001b[0;36m4096\u001b[0m\u001b[0;34m)\u001b[0m\u001b[0;34m,\u001b[0m \u001b[0mcplxnn\u001b[0m\u001b[0;34m.\u001b[0m\u001b[0mCplxModReLU\u001b[0m\u001b[0;34m(\u001b[0m\u001b[0;34m)\u001b[0m\u001b[0;34m,\u001b[0m\u001b[0;34m\u001b[0m\u001b[0;34m\u001b[0m\u001b[0m\n",
      "\u001b[0;31mNameError\u001b[0m: name 'flatten_dim' is not defined"
     ]
    }
   ],
   "source": [
    "import cplxmodule.nn as cplxnn\n",
    "\n",
    "complex_backbone = cplxnn.CplxSequential(\n",
    "    #cplxnn.CplxAdaptiveModReLU()\n",
    "    cplxnn.CplxConv1d(1, 96, kernel_size=11, stride=4, padding=1), cplxnn.CplxModReLU(),\n",
    "    cplxnn.CplxConv1d(96, 96, kernel_size=3, padding=1, stride=2), cplxnn.CplxModReLU(), # In place of pooling\n",
    "    cplxnn.CplxConv1d(96, 256, kernel_size=5, padding=2), cplxnn.CplxModReLU(),\n",
    "    cplxnn.CplxConv1d(256, 256, kernel_size=3, padding=1, stride=2), cplxnn.CplxModReLU(),\n",
    "    cplxnn.CplxConv1d(256, 384, kernel_size=3, padding=1), cplxnn.CplxModReLU(),\n",
    "    cplxnn.CplxConv1d(384, 384, kernel_size=3, padding=1), cplxnn.CplxModReLU(),\n",
    "    cplxnn.CplxConv1d(384, 256, kernel_size=3, padding=1), cplxnn.CplxModReLU(),\n",
    "    #nn.Conv1d(256, 256, kernel_size=3, stride=2),\n",
    "    #nn.Flatten(),\n",
    "    cplxnn.CplxToCplx[torch.nn.Flatten](start_dim=-2),\n",
    "    cplxnn.CplxDropout(p=0.5),\n",
    "    cplxnn.CplxLinear(flatten_dim, 4096), cplxnn.CplxModReLU(),\n",
    "    cplxnn.CplxDropout(p=0.5),\n",
    "    cplxnn.CplxLinear(4096, 4096), cplxnn.CplxModReLU(),\n",
    "    cplxnn.CplxLinear(4096, classes))\n",
    "\n",
    "seq = nn.Sequential(\n",
    "    cplxnn.RealToCplx(),\n",
    "    self.complex_backbone,\n",
    "    cplxnn.CplxToReal(),\n",
    ")"
   ]
  },
  {
   "cell_type": "code",
   "execution_count": null,
   "metadata": {},
   "outputs": [],
   "source": []
  }
 ],
 "metadata": {
  "kernelspec": {
   "display_name": "Python 3",
   "language": "python",
   "name": "python3"
  },
  "language_info": {
   "codemirror_mode": {
    "name": "ipython",
    "version": 3
   },
   "file_extension": ".py",
   "mimetype": "text/x-python",
   "name": "python",
   "nbconvert_exporter": "python",
   "pygments_lexer": "ipython3",
   "version": "3.7.4"
  }
 },
 "nbformat": 4,
 "nbformat_minor": 2
}
